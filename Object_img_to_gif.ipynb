{
  "nbformat": 4,
  "nbformat_minor": 0,
  "metadata": {
    "colab": {
      "provenance": []
    },
    "kernelspec": {
      "name": "python3",
      "display_name": "Python 3"
    },
    "language_info": {
      "name": "python"
    }
  },
  "cells": [
    {
      "cell_type": "code",
      "source": [
        "color_1 = '#C905C9'\n",
        "color_2 = '#170C17'\n",
        "color_3 = '#94C9A2'\n",
        "shadow_size = 2\n",
        "split = 20\n",
        "a_mask = 35\n",
        "input_path = \"/content/pic.png\""
      ],
      "metadata": {
        "id": "2_eacflcjVIe"
      },
      "execution_count": null,
      "outputs": []
    },
    {
      "cell_type": "code",
      "source": [
        "from PIL import Image\n",
        "with Image.open(input_path) as img:\n",
        "  shadow_size = int(img.width*0.04)"
      ],
      "metadata": {
        "id": "oRrdYo-8NNZ0",
        "colab": {
          "base_uri": "https://localhost:8080/",
          "height": 331
        },
        "outputId": "e36fe97f-0dd4-46da-a6a4-526bfa17efb7"
      },
      "execution_count": null,
      "outputs": [
        {
          "output_type": "error",
          "ename": "FileNotFoundError",
          "evalue": "ignored",
          "traceback": [
            "\u001b[0;31m---------------------------------------------------------------------------\u001b[0m",
            "\u001b[0;31mFileNotFoundError\u001b[0m                         Traceback (most recent call last)",
            "\u001b[0;32m<ipython-input-13-9e61964c846e>\u001b[0m in \u001b[0;36m<cell line: 2>\u001b[0;34m()\u001b[0m\n\u001b[1;32m      1\u001b[0m \u001b[0;32mfrom\u001b[0m \u001b[0mPIL\u001b[0m \u001b[0;32mimport\u001b[0m \u001b[0mImage\u001b[0m\u001b[0;34m\u001b[0m\u001b[0;34m\u001b[0m\u001b[0m\n\u001b[0;32m----> 2\u001b[0;31m \u001b[0;32mwith\u001b[0m \u001b[0mImage\u001b[0m\u001b[0;34m.\u001b[0m\u001b[0mopen\u001b[0m\u001b[0;34m(\u001b[0m\u001b[0minput_path\u001b[0m\u001b[0;34m)\u001b[0m \u001b[0;32mas\u001b[0m \u001b[0mimg\u001b[0m\u001b[0;34m:\u001b[0m\u001b[0;34m\u001b[0m\u001b[0;34m\u001b[0m\u001b[0m\n\u001b[0m\u001b[1;32m      3\u001b[0m   \u001b[0mshadow_size\u001b[0m \u001b[0;34m=\u001b[0m \u001b[0mint\u001b[0m\u001b[0;34m(\u001b[0m\u001b[0mimg\u001b[0m\u001b[0;34m.\u001b[0m\u001b[0mwidth\u001b[0m\u001b[0;34m*\u001b[0m\u001b[0;36m0.04\u001b[0m\u001b[0;34m)\u001b[0m\u001b[0;34m\u001b[0m\u001b[0;34m\u001b[0m\u001b[0m\n",
            "\u001b[0;32m/usr/local/lib/python3.10/dist-packages/PIL/Image.py\u001b[0m in \u001b[0;36mopen\u001b[0;34m(fp, mode, formats)\u001b[0m\n\u001b[1;32m   3225\u001b[0m \u001b[0;34m\u001b[0m\u001b[0m\n\u001b[1;32m   3226\u001b[0m     \u001b[0;32mif\u001b[0m \u001b[0mfilename\u001b[0m\u001b[0;34m:\u001b[0m\u001b[0;34m\u001b[0m\u001b[0;34m\u001b[0m\u001b[0m\n\u001b[0;32m-> 3227\u001b[0;31m         \u001b[0mfp\u001b[0m \u001b[0;34m=\u001b[0m \u001b[0mbuiltins\u001b[0m\u001b[0;34m.\u001b[0m\u001b[0mopen\u001b[0m\u001b[0;34m(\u001b[0m\u001b[0mfilename\u001b[0m\u001b[0;34m,\u001b[0m \u001b[0;34m\"rb\"\u001b[0m\u001b[0;34m)\u001b[0m\u001b[0;34m\u001b[0m\u001b[0;34m\u001b[0m\u001b[0m\n\u001b[0m\u001b[1;32m   3228\u001b[0m         \u001b[0mexclusive_fp\u001b[0m \u001b[0;34m=\u001b[0m \u001b[0;32mTrue\u001b[0m\u001b[0;34m\u001b[0m\u001b[0;34m\u001b[0m\u001b[0m\n\u001b[1;32m   3229\u001b[0m \u001b[0;34m\u001b[0m\u001b[0m\n",
            "\u001b[0;31mFileNotFoundError\u001b[0m: [Errno 2] No such file or directory: '/content/pic.png'"
          ]
        }
      ]
    },
    {
      "cell_type": "code",
      "source": [
        "!rm -r hover\n",
        "!rm -r meta\n",
        "!rm -r shake\n",
        "!mkdir -p meta && unzip -d meta meta.zip\n",
        "!mkdir hover\n",
        "!mkdir shake\n"
      ],
      "metadata": {
        "id": "boKxC1bMolaP"
      },
      "execution_count": null,
      "outputs": []
    },
    {
      "cell_type": "code",
      "source": [
        "import os\n",
        "from PIL import Image\n",
        "\n",
        "def apply_filters(image_path, split):\n",
        "    # Set the colors using environment variables\n",
        "    color1 = os.environ.get('color1', color_1)\n",
        "    color2 = os.environ.get('color2', color_2)\n",
        "\n",
        "    # Open the image\n",
        "    with Image.open(image_path) as img:\n",
        "        # Split the pixels into two groups based on brightness\n",
        "        img = img.convert(\"RGBA\")\n",
        "        pixels = img.load()\n",
        "        width, height = img.size\n",
        "        # Add the green shadow to the left of the image\n",
        "        shadow_width = 50\n",
        "        shadow = Image.new(\"RGBA\", (shadow_width, height), (148, 201, 162, 128))\n",
        "        img.paste(shadow, box=(-shadow_width, 0))\n",
        "        # Save the result\n",
        "        return img\n"
      ],
      "metadata": {
        "id": "Fl7Rjf0OiVMT"
      },
      "execution_count": null,
      "outputs": []
    },
    {
      "cell_type": "code",
      "source": [
        "from PIL import Image, ImageDraw\n",
        "\n",
        "def add_left_shadow(im, shadow_size):\n",
        "    # Open the image and get its dimensions\n",
        "      width, height = im.size\n",
        "\n",
        "      # Create a new image with the shadow size added to the width\n",
        "      new_width = width + shadow_size\n",
        "      new_im = Image.new('RGBA', (new_width, height), (0, 0, 0, 0))\n",
        "\n",
        "      # Paste the original image onto the new image, shifted to the right by the shadow size\n",
        "      new_im.paste(im, (shadow_size, 0))\n",
        "\n",
        "      # Draw the shadow onto the new image\n",
        "      draw = ImageDraw.Draw(new_im)\n",
        "      shadow_color = (148, 201, 162, 255)  # #94C9A2 in RGBA format\n",
        "      for y in range(height):\n",
        "          left_pixel = None\n",
        "          for x in range(shadow_size, new_width):\n",
        "              pixel = new_im.getpixel((x, y))\n",
        "              if pixel[3] > 0:\n",
        "                  # We've found the leftmost non-transparent pixel in this row\n",
        "                  left_pixel = x\n",
        "                  break\n",
        "          if left_pixel is not None:\n",
        "              for x in range(shadow_size):\n",
        "                  draw.point((left_pixel - x - 1, y), shadow_color)\n",
        "\n",
        "      # Return the new image with the shadow added\n",
        "      return new_im\n"
      ],
      "metadata": {
        "id": "G2S-9z77RCLg"
      },
      "execution_count": null,
      "outputs": []
    },
    {
      "cell_type": "code",
      "source": [
        "from PIL import Image, ImageDraw\n",
        "\n",
        "def add_right_shadow(im, shadow_size):\n",
        "    # Open the image and get its dimensions\n",
        "      width, height = im.size\n",
        "\n",
        "      # Create a new image with the shadow size added to the width\n",
        "      new_width = width + shadow_size\n",
        "      new_im = Image.new('RGBA', (new_width, height), (0, 0, 0, 0))\n",
        "\n",
        "      # Paste the original image onto the new image\n",
        "      new_im.paste(im, (0, 0))\n",
        "\n",
        "      # Draw the shadow onto the new image\n",
        "      draw = ImageDraw.Draw(new_im)\n",
        "      shadow_color = tuple(int(color_3[i:i+2], 16) for i in (1, 3, 5)) + (255,)\n",
        "      for y in range(height):\n",
        "          right_pixel = None\n",
        "          for x in range(width - 1, -1, -1):\n",
        "              pixel = new_im.getpixel((x, y))\n",
        "              if pixel[3] > 0:\n",
        "                  # We've found the rightmost non-transparent pixel in this row\n",
        "                  right_pixel = x\n",
        "                  break\n",
        "          if right_pixel is not None:\n",
        "              for x in range(shadow_size):\n",
        "                  draw.point((right_pixel + x + 1, y), shadow_color)\n",
        "\n",
        "      # Return the new image with the shadow added\n",
        "      return new_im\n"
      ],
      "metadata": {
        "id": "mxxVgUDRUR4l"
      },
      "execution_count": null,
      "outputs": []
    },
    {
      "cell_type": "code",
      "source": [
        "from PIL import Image\n",
        "\n",
        "def overlay_image_center(input_image):\n",
        "\n",
        "    # Create a temporary image that is 1.25 times the size of the input image and has an alpha channel\n",
        "    temp_image = Image.new('RGBA', (int(input_image.width * 1.25), int(input_image.height * 1.25)), (0, 0, 0, 0))\n",
        "\n",
        "    # Compute the position to center the input image in the temporary image\n",
        "    x = int((temp_image.width - input_image.width) / 2)\n",
        "    y = int((temp_image.height - input_image.height) / 2)\n",
        "\n",
        "    # Paste the input image onto the temporary image at the center position\n",
        "    temp_image.paste(input_image, (x, y))\n",
        "\n",
        "    # Return the temporary image with the input image centered as an overlay\n",
        "    return temp_image\n"
      ],
      "metadata": {
        "id": "WLAYMp7r9Qi0"
      },
      "execution_count": null,
      "outputs": []
    },
    {
      "cell_type": "code",
      "source": [
        "from PIL import Image\n",
        "\n",
        "def apply_filter(original_image, filter_path: str) -> None:\n",
        "    return original_image"
      ],
      "metadata": {
        "id": "HiXI1TC1qgBE"
      },
      "execution_count": null,
      "outputs": []
    },
    {
      "cell_type": "code",
      "source": [
        "from PIL import Image\n",
        "\n",
        "def crop_image(final_image, shape_path):\n",
        "\n",
        "    # Save output image\n",
        "    return final_image\n",
        "\n",
        "\n"
      ],
      "metadata": {
        "id": "bmP8zG_NyZ_c"
      },
      "execution_count": null,
      "outputs": []
    },
    {
      "cell_type": "code",
      "source": [
        "def apply(image_path, filter_path, shape_path, shadow_size):\n",
        "  if shadow_size >= 0:\n",
        "    return crop_image(apply_filter(add_right_shadow(apply_filters(image_path, split), shadow_size), filter_path), shape_path)\n",
        "  else:\n",
        "    return crop_image(apply_filter(add_left_shadow(apply_filters(image_path, split), shadow_size * -1), filter_path), shape_path)\n"
      ],
      "metadata": {
        "id": "XIzb7oudREri"
      },
      "execution_count": null,
      "outputs": []
    },
    {
      "cell_type": "code",
      "source": [
        "from PIL import Image\n",
        "\n",
        "def overlay_image(input_image, output_image_path, state):\n",
        "    # Open input image and get its dimensions\n",
        "    input_width, input_height = input_image.size\n",
        "\n",
        "    # Create transparent image that is 10% larger than input image\n",
        "    transparent_width = int(input_width * 1.04)\n",
        "    transparent_height = int(input_height * 1.04)\n",
        "    transparent_image = Image.new('RGBA', (transparent_width, transparent_height), (0, 0, 0, 0))\n",
        "\n",
        "    # Determine position to overlay input image based on state\n",
        "    if state == 0:\n",
        "        x = int((transparent_width - input_width) / 2)\n",
        "        y = int((transparent_height - input_height) / 2)\n",
        "    elif state == 1:\n",
        "        x = transparent_width - input_width\n",
        "        y = 0\n",
        "    elif state == 2:\n",
        "        x = int((transparent_width - input_width) / 2)\n",
        "        y = 0\n",
        "    elif state == 3:\n",
        "        x = 0\n",
        "        y = 0\n",
        "    elif state == 4:\n",
        "        x = 0\n",
        "        y = int((transparent_height - input_height) / 2)\n",
        "    elif state == 5:\n",
        "        x = 0\n",
        "        y = transparent_height - input_height\n",
        "    elif state == 6:\n",
        "        x = int((transparent_width - input_width) / 2)\n",
        "        y = transparent_height - input_height\n",
        "    elif state == 7:\n",
        "        x = transparent_width - input_width\n",
        "        y = transparent_height - input_height\n",
        "    elif state == 8:\n",
        "        x = transparent_width - input_width\n",
        "        y = int((transparent_height - input_height) / 2)\n",
        "\n",
        "    # Overlay input image on transparent image\n",
        "    transparent_image.paste(input_image, (x, y))\n",
        "\n",
        "    # Save output image\n",
        "    transparent_image.save(output_image_path)\n"
      ],
      "metadata": {
        "id": "wuvBO6sZfTOK"
      },
      "execution_count": null,
      "outputs": []
    },
    {
      "cell_type": "code",
      "source": [
        "filter, shape = 1, 1\n",
        "max_filter, max_shape = 4, 6\n",
        "def place(output_path, state, shadow):\n",
        "  global filter, shape\n",
        "  overlay_image(apply(input_path, \"meta/filters/\"+str(filter)+\".png\", \"meta/shapes/\"+str(shape)+\".png\", int(shadow)),output_path, state)\n",
        "  shape = shape + 1 if shape < max_shape else 1\n",
        "  filter = filter + 1 if filter < max_filter else 1"
      ],
      "metadata": {
        "id": "P595rjJrJgAP"
      },
      "execution_count": null,
      "outputs": []
    },
    {
      "cell_type": "code",
      "source": [
        "#code for shake\n",
        "place(\"shake/1.png\", 8, 0)\n",
        "place(\"shake/2.png\", 0, shadow_size)\n",
        "place(\"shake/4.png\", 4, shadow_size/2)\n",
        "place(\"shake/5.png\", 0, -shadow_size)"
      ],
      "metadata": {
        "id": "rorVK-FVMEHC"
      },
      "execution_count": null,
      "outputs": []
    },
    {
      "cell_type": "code",
      "source": [
        "#code for hover\n",
        "place(\"hover/1.png\", 1, 0)\n",
        "place(\"hover/3.png\",3, shadow_size/2)\n",
        "place(\"hover/5.png\",5, 0)\n",
        "place(\"hover/6.png\",6, -shadow_size/3)\n",
        "place(\"hover/8.png\",8, -shadow_size)"
      ],
      "metadata": {
        "id": "uHvt27PxpziI"
      },
      "execution_count": null,
      "outputs": []
    },
    {
      "cell_type": "code",
      "source": [
        "from PIL import Image\n",
        "\n",
        "def gen_frame(path):\n",
        "    im = Image.open(path)\n",
        "    alpha = im.getchannel('A')\n",
        "\n",
        "    # Convert the image into P mode but only use 255 colors in the palette out of 256\n",
        "    im = im.convert('RGB').convert('P', palette=Image.ADAPTIVE, colors=255)\n",
        "\n",
        "    # Set all pixel values below 128 to 255 , and the rest to 0\n",
        "    mask = Image.eval(alpha, lambda a: 255 if a <=128 else 0)\n",
        "\n",
        "    # Paste the color of index 255 and use alpha as a mask\n",
        "    im.paste(255, mask)\n",
        "\n",
        "    # The transparency index is 255\n",
        "    im.info['transparency'] = 255\n",
        "\n",
        "    return im\n",
        "\n",
        "def create_gif(folder_path, output_path, duration):\n",
        "    frames = []\n",
        "    for file_name in sorted(os.listdir(folder_path)):\n",
        "        if file_name.endswith('.png'):\n",
        "            frames.append(gen_frame(os.path.join(folder_path, file_name)))\n",
        "    frames[0].save(output_path, save_all=True, append_images=frames[1:], loop=0, duration=duration, optimize=True, disposal=2)"
      ],
      "metadata": {
        "id": "FBETIPa_VZCL"
      },
      "execution_count": null,
      "outputs": []
    },
    {
      "cell_type": "code",
      "source": [
        "create_gif(\"shake\", \"shake.gif\", 650)\n",
        "create_gif(\"hover\", \"hover.gif\", 550)"
      ],
      "metadata": {
        "id": "CS4HkOR5oEMp"
      },
      "execution_count": null,
      "outputs": []
    }
  ]
}
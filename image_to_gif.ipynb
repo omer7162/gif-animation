{
  "nbformat": 4,
  "nbformat_minor": 0,
  "metadata": {
    "colab": {
      "provenance": []
    },
    "kernelspec": {
      "name": "python3",
      "display_name": "Python 3"
    },
    "language_info": {
      "name": "python"
    }
  },
  "cells": [
    {
      "cell_type": "code",
      "source": [
        "color_1 = '#C905C9'\n",
        "color_2 = '#170C17'\n",
        "color_3 = '#94C9A2'\n",
        "shadow_size = 2\n",
        "split = 90\n",
        "a_mask = 165\n",
        "input_path = \"profilea.png\""
      ],
      "metadata": {
        "id": "2_eacflcjVIe"
      },
      "execution_count": 14,
      "outputs": []
    },
    {
      "cell_type": "code",
      "source": [
        "from PIL import Image\n",
        "with Image.open(input_path) as img:\n",
        "  shadow_size = int(img.width*0.04)"
      ],
      "metadata": {
        "id": "oRrdYo-8NNZ0"
      },
      "execution_count": 15,
      "outputs": []
    },
    {
      "cell_type": "code",
      "source": [
        "!rm -r hover\n",
        "!rm -r meta\n",
        "!rm -r shake\n",
        "!mkdir -p meta && unzip -d meta meta.zip\n",
        "!mkdir hover\n",
        "!mkdir shake\n"
      ],
      "metadata": {
        "colab": {
          "base_uri": "https://localhost:8080/"
        },
        "id": "boKxC1bMolaP",
        "outputId": "84081a19-e23f-4cd6-bf8d-c84ff85b9dbf"
      },
      "execution_count": 16,
      "outputs": [
        {
          "output_type": "stream",
          "name": "stdout",
          "text": [
            "Archive:  meta.zip\n",
            "  inflating: meta/filters/1.png      \n",
            "  inflating: meta/filters/2.png      \n",
            "  inflating: meta/filters/3.png      \n",
            "  inflating: meta/filters/4.png      \n",
            "  inflating: meta/shapes/1.png       \n",
            "  inflating: meta/shapes/2.png       \n",
            "  inflating: meta/shapes/3.png       \n",
            "  inflating: meta/shapes/4.png       \n",
            "  inflating: meta/shapes/5.png       \n",
            "  inflating: meta/shapes/6.png       \n"
          ]
        }
      ]
    },
    {
      "cell_type": "code",
      "source": [
        "import os\n",
        "from PIL import Image\n",
        "\n",
        "def apply_filters(image_path, split):\n",
        "    # Set the colors using environment variables\n",
        "    color1 = os.environ.get('color1', color_1)\n",
        "    color2 = os.environ.get('color2', color_2)\n",
        "\n",
        "    # Open the image\n",
        "    with Image.open(image_path) as img:\n",
        "        # Split the pixels into two groups based on brightness\n",
        "        img = img.convert(\"RGBA\")\n",
        "        pixels = img.load()\n",
        "        width, height = img.size\n",
        "        for i in range(width):\n",
        "            for j in range(height):\n",
        "                r, g, b, a = pixels[i, j]\n",
        "                brightness = (0.299 * r + 0.587 * g + 0.114 * b)\n",
        "                if a != 0:\n",
        "                    if brightness > split:\n",
        "                        # Apply the pink filter to bright pixels\n",
        "                        r_mask, g_mask, b_mask = tuple(int(color_1[i:i+2], 16) for i in (1, 3, 5))\n",
        "                        r, g, b, a = pixels[i, j]\n",
        "                        r_new = (r * (255 - a_mask) + r_mask * a_mask) // 255 # blend red channel with mask\n",
        "                        g_new = (g * (255 - a_mask) + g_mask * a_mask) // 255 # blend green channel with mask\n",
        "                        b_new = (b * (255 - a_mask) + b_mask * a_mask) // 255 # blend blue channel with mask\n",
        "                        pixels[i, j] = (r_new, g_new, b_new, 255) # set the new color with full opacity\n",
        "                    else:\n",
        "                        # Apply the black filter to dark pixels\n",
        "                        pixels[i, j] = (int(color2[1:3], 16) - int(r*0.2), int(color2[3:5], 16) - int(g*0.2), int(color2[5:7], 16) - int(b*0.3), 255)\n",
        "        # Add the green shadow to the left of the image\n",
        "        shadow_width = 50\n",
        "        shadow = Image.new(\"RGBA\", (shadow_width, height), (148, 201, 162, 128))\n",
        "        img.paste(shadow, box=(-shadow_width, 0))\n",
        "        # Save the result\n",
        "        return img\n"
      ],
      "metadata": {
        "id": "Fl7Rjf0OiVMT"
      },
      "execution_count": 17,
      "outputs": []
    },
    {
      "cell_type": "code",
      "source": [
        "from PIL import Image, ImageDraw\n",
        "\n",
        "def add_left_shadow(im, shadow_size):\n",
        "    # Open the image and get its dimensions\n",
        "      width, height = im.size\n",
        "\n",
        "      # Create a new image with the shadow size added to the width\n",
        "      new_width = width + shadow_size\n",
        "      new_im = Image.new('RGBA', (new_width, height), (0, 0, 0, 0))\n",
        "\n",
        "      # Paste the original image onto the new image, shifted to the right by the shadow size\n",
        "      new_im.paste(im, (shadow_size, 0))\n",
        "\n",
        "      # Draw the shadow onto the new image\n",
        "      draw = ImageDraw.Draw(new_im)\n",
        "      shadow_color = (148, 201, 162, 255)  # #94C9A2 in RGBA format\n",
        "      for y in range(height):\n",
        "          left_pixel = None\n",
        "          for x in range(shadow_size, new_width):\n",
        "              pixel = new_im.getpixel((x, y))\n",
        "              if pixel[3] > 0:\n",
        "                  # We've found the leftmost non-transparent pixel in this row\n",
        "                  left_pixel = x\n",
        "                  break\n",
        "          if left_pixel is not None:\n",
        "              for x in range(shadow_size):\n",
        "                  draw.point((left_pixel - x - 1, y), shadow_color)\n",
        "\n",
        "      # Return the new image with the shadow added\n",
        "      return new_im\n"
      ],
      "metadata": {
        "id": "G2S-9z77RCLg"
      },
      "execution_count": 18,
      "outputs": []
    },
    {
      "cell_type": "code",
      "source": [
        "from PIL import Image, ImageDraw\n",
        "\n",
        "def add_right_shadow(im, shadow_size):\n",
        "    # Open the image and get its dimensions\n",
        "      width, height = im.size\n",
        "\n",
        "      # Create a new image with the shadow size added to the width\n",
        "      new_width = width + shadow_size\n",
        "      new_im = Image.new('RGBA', (new_width, height), (0, 0, 0, 0))\n",
        "\n",
        "      # Paste the original image onto the new image\n",
        "      new_im.paste(im, (0, 0))\n",
        "\n",
        "      # Draw the shadow onto the new image\n",
        "      draw = ImageDraw.Draw(new_im)\n",
        "      shadow_color = tuple(int(color_3[i:i+2], 16) for i in (1, 3, 5)) + (255,)\n",
        "      for y in range(height):\n",
        "          right_pixel = None\n",
        "          for x in range(width - 1, -1, -1):\n",
        "              pixel = new_im.getpixel((x, y))\n",
        "              if pixel[3] > 0:\n",
        "                  # We've found the rightmost non-transparent pixel in this row\n",
        "                  right_pixel = x\n",
        "                  break\n",
        "          if right_pixel is not None:\n",
        "              for x in range(shadow_size):\n",
        "                  draw.point((right_pixel + x + 1, y), shadow_color)\n",
        "\n",
        "      # Return the new image with the shadow added\n",
        "      return new_im\n"
      ],
      "metadata": {
        "id": "mxxVgUDRUR4l"
      },
      "execution_count": 19,
      "outputs": []
    },
    {
      "cell_type": "code",
      "source": [
        "from PIL import Image\n",
        "\n",
        "def overlay_image_center(input_image):\n",
        "\n",
        "    # Create a temporary image that is 1.25 times the size of the input image and has an alpha channel\n",
        "    temp_image = Image.new('RGBA', (int(input_image.width * 1.25), int(input_image.height * 1.25)), (0, 0, 0, 0))\n",
        "\n",
        "    # Compute the position to center the input image in the temporary image\n",
        "    x = int((temp_image.width - input_image.width) / 2)\n",
        "    y = int((temp_image.height - input_image.height) / 2)\n",
        "\n",
        "    # Paste the input image onto the temporary image at the center position\n",
        "    temp_image.paste(input_image, (x, y))\n",
        "\n",
        "    # Return the temporary image with the input image centered as an overlay\n",
        "    return temp_image\n"
      ],
      "metadata": {
        "id": "WLAYMp7r9Qi0"
      },
      "execution_count": 20,
      "outputs": []
    },
    {
      "cell_type": "code",
      "source": [
        "from PIL import Image\n",
        "\n",
        "def apply_filter(original_image, filter_path: str) -> None:\n",
        "    # Load the original image\n",
        "    original_image = overlay_image_center(original_image)\n",
        "\n",
        "    # Load the filter image and crop it to the size of the scaled up image\n",
        "    filter_image = Image.open(filter_path)\n",
        "    filter_width, filter_height = filter_image.size\n",
        "    width, height = original_image.size\n",
        "    if filter_width < width or filter_height < height:\n",
        "        raise ValueError(\"Filter image is too small\")\n",
        "    crop_left = (filter_width - width) // 2\n",
        "    crop_top = (filter_height - height) // 2\n",
        "    crop_right = crop_left + width\n",
        "    crop_bottom = crop_top + height\n",
        "    cropped_filter = filter_image.crop((crop_left, crop_top, crop_right, crop_bottom))\n",
        "\n",
        "    # Apply the filter to the scaled up image\n",
        "    for x in range(width):\n",
        "        for y in range(height):\n",
        "            filter_pixel = cropped_filter.getpixel((x, y))\n",
        "            inverted_pixel = tuple(255 - value for value in filter_pixel)\n",
        "            if sum(filter_pixel) / 3 > 20:\n",
        "              original_pixel = original_image.getpixel((x, y))\n",
        "              if original_pixel[3] == 0:\n",
        "                original_image.putpixel((x, y), inverted_pixel)\n",
        "              else:\n",
        "                # assume original_pixel and filter_pixel are tuples with (R,G,B) values\n",
        "                new_pixel = (\n",
        "                        original_pixel[0] - int(filter_pixel[0])*4,  # Average red values\n",
        "                        original_pixel[1] - int(filter_pixel[1])*4,  # Average green values\n",
        "                        original_pixel[2]- int(filter_pixel[2])*4,\n",
        "                        original_pixel[3]  # Average blue values\n",
        "                    )\n",
        "\n",
        "                original_image.putpixel((x, y), new_pixel)\n",
        "\n",
        "    # Save the resulting image\n",
        "    return original_image"
      ],
      "metadata": {
        "id": "HiXI1TC1qgBE"
      },
      "execution_count": 21,
      "outputs": []
    },
    {
      "cell_type": "code",
      "source": [
        "from PIL import Image\n",
        "\n",
        "def crop_image(final_image, shape_path):\n",
        "    # Open final and shape images\n",
        "    shape_image = Image.open(shape_path)\n",
        "\n",
        "    # Resize shape image to match final image size\n",
        "    shape_image = shape_image.resize(final_image.size)\n",
        "\n",
        "    # Create output image\n",
        "    output_image = Image.new('RGBA', final_image.size)\n",
        "\n",
        "    # Iterate through every pixel in final image\n",
        "    for x in range(final_image.width):\n",
        "        for y in range(final_image.height):\n",
        "            # Check if corresponding pixel in shape image is not transparent\n",
        "            if shape_image.getpixel((x, y)) != 0:\n",
        "                # Copy pixel from final image to output image\n",
        "                output_image.putpixel((x, y), final_image.getpixel((x, y)))\n",
        "\n",
        "    # Save output image\n",
        "    return output_image\n",
        "\n",
        "\n"
      ],
      "metadata": {
        "id": "bmP8zG_NyZ_c"
      },
      "execution_count": 22,
      "outputs": []
    },
    {
      "cell_type": "code",
      "source": [
        "def apply(image_path, filter_path, shape_path, shadow_size):\n",
        "  if shadow_size >= 0:\n",
        "    return crop_image(apply_filter(add_right_shadow(apply_filters(image_path, split), shadow_size), filter_path), shape_path)\n",
        "  else:\n",
        "    return crop_image(apply_filter(add_left_shadow(apply_filters(image_path, split), shadow_size * -1), filter_path), shape_path)\n"
      ],
      "metadata": {
        "id": "XIzb7oudREri"
      },
      "execution_count": 23,
      "outputs": []
    },
    {
      "cell_type": "code",
      "source": [
        "from PIL import Image\n",
        "\n",
        "def overlay_image(input_image, output_image_path, state):\n",
        "    # Open input image and get its dimensions\n",
        "    input_width, input_height = input_image.size\n",
        "\n",
        "    # Create transparent image that is 10% larger than input image\n",
        "    transparent_width = int(input_width * 1.04)\n",
        "    transparent_height = int(input_height * 1.04)\n",
        "    transparent_image = Image.new('RGBA', (transparent_width, transparent_height), (0, 0, 0, 0))\n",
        "\n",
        "    # Determine position to overlay input image based on state\n",
        "    if state == 0:\n",
        "        x = int((transparent_width - input_width) / 2)\n",
        "        y = int((transparent_height - input_height) / 2)\n",
        "    elif state == 1:\n",
        "        x = transparent_width - input_width\n",
        "        y = 0\n",
        "    elif state == 2:\n",
        "        x = int((transparent_width - input_width) / 2)\n",
        "        y = 0\n",
        "    elif state == 3:\n",
        "        x = 0\n",
        "        y = 0\n",
        "    elif state == 4:\n",
        "        x = 0\n",
        "        y = int((transparent_height - input_height) / 2)\n",
        "    elif state == 5:\n",
        "        x = 0\n",
        "        y = transparent_height - input_height\n",
        "    elif state == 6:\n",
        "        x = int((transparent_width - input_width) / 2)\n",
        "        y = transparent_height - input_height\n",
        "    elif state == 7:\n",
        "        x = transparent_width - input_width\n",
        "        y = transparent_height - input_height\n",
        "    elif state == 8:\n",
        "        x = transparent_width - input_width\n",
        "        y = int((transparent_height - input_height) / 2)\n",
        "\n",
        "    # Overlay input image on transparent image\n",
        "    transparent_image.paste(input_image, (x, y))\n",
        "\n",
        "    # Save output image\n",
        "    transparent_image.save(output_image_path)\n"
      ],
      "metadata": {
        "id": "wuvBO6sZfTOK"
      },
      "execution_count": 24,
      "outputs": []
    },
    {
      "cell_type": "code",
      "source": [
        "import zipfile\n",
        "import os\n",
        "\n",
        "# Path to the zip file\n",
        "zip_path = 'meta.zip'\n",
        "# Directory where files will be extracted\n",
        "extract_dir = 'meta'\n",
        "\n",
        "# Create directory if it doesn't exist\n",
        "if not os.path.exists(extract_dir):\n",
        "    os.makedirs(extract_dir)\n",
        "\n",
        "# Open the zip file\n",
        "with zipfile.ZipFile(zip_path, 'r') as zip_ref:\n",
        "    # Extract all the contents into the directory\n",
        "    zip_ref.extractall(extract_dir)\n",
        "\n"
      ],
      "metadata": {
        "id": "u5fq2lu6GIer"
      },
      "execution_count": 25,
      "outputs": []
    },
    {
      "cell_type": "code",
      "source": [
        "filter, shape = 1, 1\n",
        "max_filter, max_shape = 4, 6\n",
        "def place(output_path, state, shadow):\n",
        "  global filter, shape\n",
        "  overlay_image(apply(input_path, \"meta/filters/\"+str(filter)+\".png\", \"meta/shapes/\"+str(shape)+\".png\", int(shadow)),output_path, state)\n",
        "  shape = shape + 1 if shape < max_shape else 1\n",
        "  filter = filter + 1 if filter < max_filter else 1"
      ],
      "metadata": {
        "id": "P595rjJrJgAP"
      },
      "execution_count": 26,
      "outputs": []
    },
    {
      "cell_type": "code",
      "source": [
        "#code for shake\n",
        "place(\"shake/1.png\", 8, 0)\n",
        "place(\"shake/2.png\", 0, shadow_size)\n",
        "place(\"shake/4.png\", 4, shadow_size/2)\n",
        "place(\"shake/5.png\", 0, -shadow_size)"
      ],
      "metadata": {
        "id": "rorVK-FVMEHC"
      },
      "execution_count": 27,
      "outputs": []
    },
    {
      "cell_type": "code",
      "source": [
        "#code for hover\n",
        "place(\"hover/1.png\", 1, 0)\n",
        "place(\"hover/3.png\",3, shadow_size/2)\n",
        "place(\"hover/5.png\",5, 0)\n",
        "place(\"hover/6.png\",6, -shadow_size/3)\n",
        "place(\"hover/8.png\",8, -shadow_size)"
      ],
      "metadata": {
        "id": "uHvt27PxpziI"
      },
      "execution_count": 28,
      "outputs": []
    },
    {
      "cell_type": "code",
      "source": [
        "from PIL import Image\n",
        "\n",
        "def gen_frame(path):\n",
        "    im = Image.open(path)\n",
        "    alpha = im.getchannel('A')\n",
        "\n",
        "    # Convert the image into P mode but only use 255 colors in the palette out of 256\n",
        "    im = im.convert('RGB').convert('P', palette=Image.ADAPTIVE, colors=255)\n",
        "\n",
        "    # Set all pixel values below 128 to 255 , and the rest to 0\n",
        "    mask = Image.eval(alpha, lambda a: 255 if a <=128 else 0)\n",
        "\n",
        "    # Paste the color of index 255 and use alpha as a mask\n",
        "    im.paste(255, mask)\n",
        "\n",
        "    # The transparency index is 255\n",
        "    im.info['transparency'] = 255\n",
        "\n",
        "    return im\n",
        "\n",
        "def create_gif(folder_path, output_path, duration):\n",
        "    frames = []\n",
        "    for file_name in sorted(os.listdir(folder_path)):\n",
        "        if file_name.endswith('.png'):\n",
        "            frames.append(gen_frame(os.path.join(folder_path, file_name)))\n",
        "    frames[0].save(output_path, save_all=True, append_images=frames[1:], loop=0, duration=duration, optimize=True, disposal=2)"
      ],
      "metadata": {
        "id": "FBETIPa_VZCL"
      },
      "execution_count": 29,
      "outputs": []
    },
    {
      "cell_type": "code",
      "source": [
        "create_gif(\"shake\", \"shake.gif\", 650)\n",
        "create_gif(\"hover\", \"hover.gif\", 550)"
      ],
      "metadata": {
        "id": "CS4HkOR5oEMp"
      },
      "execution_count": 30,
      "outputs": []
    }
  ]
}